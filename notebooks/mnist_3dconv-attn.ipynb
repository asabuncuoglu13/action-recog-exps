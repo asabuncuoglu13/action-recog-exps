{
 "cells": [
  {
   "cell_type": "markdown",
   "metadata": {},
   "source": [
    "The code is from https://github.com/HarshSulakhe/3DMNIST-PyTorch"
   ]
  },
  {
   "cell_type": "markdown",
   "metadata": {},
   "source": [
    "# Import Packages"
   ]
  },
  {
   "cell_type": "code",
   "execution_count": 1,
   "metadata": {},
   "outputs": [],
   "source": [
    "import pandas as pd\n",
    "import numpy as np\n",
    "from tqdm import tqdm\n",
    "import os\n",
    "import matplotlib.pyplot as plt\n",
    "from sklearn.model_selection import train_test_split\n",
    "from sklearn.metrics import accuracy_score\n",
    "import torch\n",
    "from torch.autograd import Variable\n",
    "import torch.nn as nn\n",
    "import torch.nn.functional as F\n",
    "from torch.optim import *\n",
    "import h5py\n",
    "from utils.plot3D import *\n",
    "from utils.utils import *"
   ]
  },
  {
   "cell_type": "code",
   "execution_count": 2,
   "metadata": {},
   "outputs": [
    {
     "name": "stdout",
     "output_type": "stream",
     "text": [
      "cuda:0\n"
     ]
    }
   ],
   "source": [
    "device = torch.device(\"cuda:0\" if torch.cuda.is_available() else \"cpu\")\n",
    "#device = \"cpu\"\n",
    "print(device)"
   ]
  },
  {
   "cell_type": "markdown",
   "metadata": {},
   "source": [
    "# Load the vectors "
   ]
  },
  {
   "cell_type": "code",
   "execution_count": 3,
   "metadata": {},
   "outputs": [],
   "source": [
    "with h5py.File('/home/asabuncuoglu13/dataset/mnist3d/full_dataset_vectors.h5', \"r\") as hf:    \n",
    "    X_train = hf[\"X_train\"][:]\n",
    "    targets_train = hf[\"y_train\"][:]\n",
    "    X_test = hf[\"X_test\"][:] \n",
    "    targets_test = hf[\"y_test\"][:]\n",
    "    \n",
    "X_train = rgb_data_transform(X_train)\n",
    "X_test = rgb_data_transform(X_test)"
   ]
  },
  {
   "cell_type": "markdown",
   "metadata": {},
   "source": [
    "# Create Datasets and Dataloaders"
   ]
  },
  {
   "cell_type": "code",
   "execution_count": 4,
   "metadata": {},
   "outputs": [],
   "source": [
    "train_x = torch.from_numpy(X_train).float()\n",
    "train_y = torch.from_numpy(targets_train).long()\n",
    "test_x = torch.from_numpy(X_test).float()\n",
    "test_y = torch.from_numpy(targets_test).long()\n",
    "\n",
    "batch_size = 100\n",
    "\n",
    "train_ds = torch.utils.data.TensorDataset(train_x,train_y)\n",
    "test_ds = torch.utils.data.TensorDataset(test_x,test_y)\n",
    "\n",
    "train_loader = torch.utils.data.DataLoader(train_ds, batch_size = batch_size, shuffle = False)\n",
    "test_loader = torch.utils.data.DataLoader(test_ds, batch_size = batch_size, shuffle = False)"
   ]
  },
  {
   "cell_type": "markdown",
   "metadata": {},
   "source": [
    "# CNN and Linear Models"
   ]
  },
  {
   "cell_type": "code",
   "execution_count": 5,
   "metadata": {},
   "outputs": [],
   "source": [
    "import torch.nn.init as init\n",
    "import math\n",
    "\n",
    "class AttentionConv3d(nn.Module):\n",
    "    def __init__(self, in_channels, out_channels, kernel_size, stride=1, padding=0, groups=1, bias=False):\n",
    "        super(AttentionConv3d, self).__init__()\n",
    "        self.out_channels = out_channels\n",
    "        self.kernel_size = kernel_size\n",
    "        self.stride = stride\n",
    "        self.padding = padding\n",
    "        self.groups = groups\n",
    "\n",
    "        assert self.out_channels % self.groups == 0, \"out_channels should be divided by groups. (example: out_channels: 40, groups: 4)\"\n",
    "\n",
    "        self.rel_h = nn.Parameter(torch.randn(out_channels // 2, 1, 1, kernel_size, 1), requires_grad=True)\n",
    "        self.rel_w = nn.Parameter(torch.randn(out_channels // 2, 1, 1, 1, kernel_size), requires_grad=True)\n",
    "\n",
    "        self.key_conv = nn.Conv3d(in_channels, out_channels, kernel_size=3, bias=bias)\n",
    "        self.query_conv = nn.Conv3d(in_channels, out_channels, kernel_size=3, bias=bias)\n",
    "        self.value_conv = nn.Conv3d(in_channels, out_channels, kernel_size=3, bias=bias)\n",
    "\n",
    "        self.reset_parameters()\n",
    "\n",
    "    def forward(self, x):\n",
    "        batch, channels, height, width, d = x.size()\n",
    "        #print(\"x size:\", x.size())\n",
    "\n",
    "        pad = nn.ReplicationPad3d(self.padding)\n",
    "        padded_x = pad(x)\n",
    "        #print(\"padded x size:\", padded_x.size())\n",
    "        \n",
    "        q_out = self.query_conv(x)\n",
    "        #print(\"q_out:\", q_out.shape)\n",
    "        \n",
    "        k_out = self.key_conv(x)\n",
    "        #print(\"k_out:\", k_out.shape)\n",
    "        \n",
    "        v_out = self.value_conv(x)\n",
    "        #print(\"v_out:\", v_out.shape)\n",
    "        \n",
    "        k_out = k_out.contiguous().view(batch, self.groups, self.out_channels // self.groups, height - self.padding, width - self.padding, d - self.padding, -1)\n",
    "        v_out = v_out.contiguous().view(batch, self.groups, self.out_channels // self.groups, height - self.padding, width - self.padding, d - self.padding, -1)\n",
    "\n",
    "        q_out = q_out.view(batch, self.groups, self.out_channels // self.groups, height - self.padding, width - self.padding, d - self.padding, 1)\n",
    "\n",
    "        out = q_out * k_out\n",
    "        out = F.softmax(out, dim=-1)\n",
    "        #print(\"out#1:\", out.shape)\n",
    "        out = torch.einsum('bncdhwk, bncdhwk -> bncdhw', out, v_out).view(batch, -1, height- self.padding, width - self.padding, d - self.padding)\n",
    "        #print(\"out#2:\", out.shape)\n",
    "        return out\n",
    "\n",
    "    def reset_parameters(self):\n",
    "        init.kaiming_normal_(self.key_conv.weight, mode='fan_out', nonlinearity='relu')\n",
    "        init.kaiming_normal_(self.value_conv.weight, mode='fan_out', nonlinearity='relu')\n",
    "        init.kaiming_normal_(self.query_conv.weight, mode='fan_out', nonlinearity='relu')\n",
    "\n",
    "        init.normal_(self.rel_h, 0, 1)\n",
    "        init.normal_(self.rel_w, 0, 1)"
   ]
  },
  {
   "cell_type": "code",
   "execution_count": 6,
   "metadata": {},
   "outputs": [],
   "source": [
    "class CNNModel(nn.Module):\n",
    "\n",
    "    def __init__(self):\n",
    "        super(CNNModel,self).__init__()\n",
    "        self.conv1 = nn.Sequential(\n",
    "            AttentionConv3d(3, 8, kernel_size=5, padding=2, groups=2),\n",
    "            nn.BatchNorm3d(8),\n",
    "            nn.ReLU(),\n",
    "        )        \n",
    "        #self.conv1 = nn.Conv3d(3,8,3)\n",
    "        self.conv2 = nn.Conv3d(8,32,3)\n",
    "        self.conv3 = nn.Conv3d(32,32,3)\n",
    "        # self.conv4 = nn.Conv3d(64,128,3)\n",
    "        self.relu = nn.ReLU()\n",
    "        self.pool1 = nn.MaxPool3d(4)\n",
    "        # self.pool2 = nn.MaxPool3d(2)\n",
    "        # self.linear1 = nn.Linear(128*8,128)\n",
    "        self.linear2 = nn.Linear(32,10)\n",
    "        self.batchnorm = nn.BatchNorm3d(32)\n",
    "        self.dropout = nn.Dropout(0.5)\n",
    "\n",
    "    def forward(self,x):\n",
    "        x = self.conv1(x)\n",
    "        x = self.conv2(x)\n",
    "        x = self.pool1(x)\n",
    "        x = self.conv3(x)\n",
    "        # x = self.conv4(x)\n",
    "        # x = self.pool1(x)\n",
    "        x = self.batchnorm(x)\n",
    "        x = x.view(x.size()[0],-1)\n",
    "        # x = self.linear1(x)\n",
    "        # x = self.relu(x)\n",
    "        x = self.dropout(x)\n",
    "        x = self.linear2(x)\n",
    "        return x"
   ]
  },
  {
   "cell_type": "markdown",
   "metadata": {},
   "source": [
    "# Define Hyperparameters"
   ]
  },
  {
   "cell_type": "code",
   "execution_count": 7,
   "metadata": {},
   "outputs": [],
   "source": [
    "num_epochs = 160\n",
    "\n",
    "model = CNNModel()\n",
    "model = model.cuda()\n",
    "\n",
    "error = nn.CrossEntropyLoss()\n",
    "\n",
    "learning_rate = 0.00005\n",
    "optimizer = torch.optim.Adam(model.parameters(), lr=learning_rate)"
   ]
  },
  {
   "cell_type": "markdown",
   "metadata": {},
   "source": [
    "# Train the Model"
   ]
  },
  {
   "cell_type": "code",
   "execution_count": 8,
   "metadata": {
    "scrolled": true
   },
   "outputs": [
    {
     "name": "stdout",
     "output_type": "stream",
     "text": [
      "Epoch: 0  Train Loss:46.07, Test Loss:1.97, Train Accuracy:0.33, Test Accuracy:0.32\n",
      "Epoch: 1  Train Loss:40.55, Test Loss:1.81, Train Accuracy:0.42, Test Accuracy:0.41\n",
      "Epoch: 2  Train Loss:37.59, Test Loss:1.69, Train Accuracy:0.37, Test Accuracy:0.45\n",
      "Epoch: 3  Train Loss:35.31, Test Loss:1.62, Train Accuracy:0.46, Test Accuracy:0.46\n",
      "Epoch: 4  Train Loss:33.53, Test Loss:1.55, Train Accuracy:0.46, Test Accuracy:0.51\n",
      "Epoch: 5  Train Loss:32.30, Test Loss:1.50, Train Accuracy:0.51, Test Accuracy:0.54\n",
      "Epoch: 6  Train Loss:31.36, Test Loss:1.45, Train Accuracy:0.57, Test Accuracy:0.56\n",
      "Epoch: 7  Train Loss:30.33, Test Loss:1.42, Train Accuracy:0.55, Test Accuracy:0.57\n",
      "Epoch: 8  Train Loss:29.69, Test Loss:1.39, Train Accuracy:0.52, Test Accuracy:0.57\n",
      "Epoch: 9  Train Loss:29.06, Test Loss:1.37, Train Accuracy:0.57, Test Accuracy:0.58\n",
      "Epoch: 10  Train Loss:28.49, Test Loss:1.35, Train Accuracy:0.57, Test Accuracy:0.56\n",
      "Epoch: 11  Train Loss:28.02, Test Loss:1.33, Train Accuracy:0.59, Test Accuracy:0.61\n",
      "Epoch: 12  Train Loss:27.42, Test Loss:1.31, Train Accuracy:0.59, Test Accuracy:0.58\n",
      "Epoch: 13  Train Loss:26.99, Test Loss:1.28, Train Accuracy:0.64, Test Accuracy:0.62\n",
      "Epoch: 14  Train Loss:26.39, Test Loss:1.27, Train Accuracy:0.63, Test Accuracy:0.60\n",
      "Epoch: 15  Train Loss:26.08, Test Loss:1.25, Train Accuracy:0.66, Test Accuracy:0.61\n",
      "Epoch: 16  Train Loss:25.55, Test Loss:1.24, Train Accuracy:0.64, Test Accuracy:0.63\n",
      "Epoch: 17  Train Loss:25.29, Test Loss:1.22, Train Accuracy:0.65, Test Accuracy:0.62\n",
      "Epoch: 18  Train Loss:24.89, Test Loss:1.21, Train Accuracy:0.64, Test Accuracy:0.64\n",
      "Epoch: 19  Train Loss:24.65, Test Loss:1.20, Train Accuracy:0.64, Test Accuracy:0.64\n",
      "Epoch: 20  Train Loss:24.16, Test Loss:1.18, Train Accuracy:0.68, Test Accuracy:0.65\n",
      "Epoch: 21  Train Loss:24.00, Test Loss:1.17, Train Accuracy:0.66, Test Accuracy:0.65\n",
      "Epoch: 22  Train Loss:23.55, Test Loss:1.16, Train Accuracy:0.62, Test Accuracy:0.65\n",
      "Epoch: 23  Train Loss:23.21, Test Loss:1.15, Train Accuracy:0.69, Test Accuracy:0.66\n",
      "Epoch: 24  Train Loss:23.03, Test Loss:1.14, Train Accuracy:0.63, Test Accuracy:0.67\n",
      "Epoch: 25  Train Loss:22.83, Test Loss:1.13, Train Accuracy:0.64, Test Accuracy:0.66\n",
      "Epoch: 26  Train Loss:22.42, Test Loss:1.12, Train Accuracy:0.65, Test Accuracy:0.67\n",
      "Epoch: 27  Train Loss:22.22, Test Loss:1.11, Train Accuracy:0.64, Test Accuracy:0.66\n",
      "Epoch: 28  Train Loss:21.91, Test Loss:1.11, Train Accuracy:0.63, Test Accuracy:0.68\n",
      "Epoch: 29  Train Loss:21.59, Test Loss:1.10, Train Accuracy:0.67, Test Accuracy:0.70\n",
      "Epoch: 30  Train Loss:21.37, Test Loss:1.10, Train Accuracy:0.69, Test Accuracy:0.68\n",
      "Epoch: 31  Train Loss:21.14, Test Loss:1.09, Train Accuracy:0.68, Test Accuracy:0.69\n",
      "Epoch: 32  Train Loss:20.91, Test Loss:1.09, Train Accuracy:0.72, Test Accuracy:0.68\n",
      "Epoch: 33  Train Loss:20.69, Test Loss:1.09, Train Accuracy:0.70, Test Accuracy:0.69\n",
      "Epoch: 34  Train Loss:20.49, Test Loss:1.08, Train Accuracy:0.70, Test Accuracy:0.68\n",
      "Epoch: 35  Train Loss:20.17, Test Loss:1.07, Train Accuracy:0.67, Test Accuracy:0.68\n",
      "Epoch: 36  Train Loss:20.02, Test Loss:1.07, Train Accuracy:0.67, Test Accuracy:0.70\n",
      "Epoch: 37  Train Loss:19.78, Test Loss:1.07, Train Accuracy:0.67, Test Accuracy:0.68\n",
      "Epoch: 38  Train Loss:19.61, Test Loss:1.06, Train Accuracy:0.69, Test Accuracy:0.69\n",
      "Epoch: 39  Train Loss:19.49, Test Loss:1.05, Train Accuracy:0.70, Test Accuracy:0.70\n",
      "Epoch: 40  Train Loss:19.26, Test Loss:1.05, Train Accuracy:0.66, Test Accuracy:0.69\n",
      "Epoch: 41  Train Loss:19.04, Test Loss:1.05, Train Accuracy:0.67, Test Accuracy:0.67\n",
      "Epoch: 42  Train Loss:18.71, Test Loss:1.05, Train Accuracy:0.69, Test Accuracy:0.69\n",
      "Epoch: 43  Train Loss:18.62, Test Loss:1.04, Train Accuracy:0.67, Test Accuracy:0.69\n",
      "Epoch: 44  Train Loss:18.44, Test Loss:1.05, Train Accuracy:0.69, Test Accuracy:0.68\n",
      "Epoch: 45  Train Loss:18.33, Test Loss:1.03, Train Accuracy:0.67, Test Accuracy:0.69\n",
      "Epoch: 46  Train Loss:18.12, Test Loss:1.04, Train Accuracy:0.74, Test Accuracy:0.68\n",
      "Epoch: 47  Train Loss:17.92, Test Loss:1.02, Train Accuracy:0.71, Test Accuracy:0.69\n",
      "Epoch: 48  Train Loss:17.84, Test Loss:1.03, Train Accuracy:0.67, Test Accuracy:0.69\n",
      "Epoch: 49  Train Loss:17.56, Test Loss:1.02, Train Accuracy:0.74, Test Accuracy:0.69\n",
      "Epoch: 50  Train Loss:17.46, Test Loss:1.02, Train Accuracy:0.73, Test Accuracy:0.70\n",
      "Epoch: 51  Train Loss:17.29, Test Loss:1.03, Train Accuracy:0.76, Test Accuracy:0.69\n",
      "Epoch: 52  Train Loss:17.08, Test Loss:1.03, Train Accuracy:0.73, Test Accuracy:0.69\n",
      "Epoch: 53  Train Loss:16.99, Test Loss:1.02, Train Accuracy:0.78, Test Accuracy:0.68\n",
      "Epoch: 54  Train Loss:16.80, Test Loss:1.03, Train Accuracy:0.69, Test Accuracy:0.68\n",
      "Epoch: 55  Train Loss:16.70, Test Loss:1.04, Train Accuracy:0.74, Test Accuracy:0.69\n",
      "Epoch: 56  Train Loss:16.43, Test Loss:1.04, Train Accuracy:0.74, Test Accuracy:0.69\n",
      "Epoch: 57  Train Loss:16.26, Test Loss:1.03, Train Accuracy:0.77, Test Accuracy:0.69\n",
      "Epoch: 58  Train Loss:16.18, Test Loss:1.02, Train Accuracy:0.76, Test Accuracy:0.69\n",
      "Epoch: 59  Train Loss:16.22, Test Loss:1.04, Train Accuracy:0.79, Test Accuracy:0.69\n",
      "Epoch: 60  Train Loss:16.04, Test Loss:1.04, Train Accuracy:0.75, Test Accuracy:0.69\n",
      "Epoch: 61  Train Loss:15.91, Test Loss:1.03, Train Accuracy:0.68, Test Accuracy:0.70\n",
      "Epoch: 62  Train Loss:15.54, Test Loss:1.03, Train Accuracy:0.75, Test Accuracy:0.69\n",
      "Epoch: 63  Train Loss:15.50, Test Loss:1.03, Train Accuracy:0.78, Test Accuracy:0.69\n",
      "Epoch: 64  Train Loss:15.29, Test Loss:1.05, Train Accuracy:0.76, Test Accuracy:0.68\n",
      "Epoch: 65  Train Loss:15.19, Test Loss:1.04, Train Accuracy:0.79, Test Accuracy:0.68\n",
      "Epoch: 66  Train Loss:15.23, Test Loss:1.05, Train Accuracy:0.82, Test Accuracy:0.67\n",
      "Epoch: 67  Train Loss:14.80, Test Loss:1.05, Train Accuracy:0.75, Test Accuracy:0.68\n",
      "Epoch: 68  Train Loss:14.86, Test Loss:1.05, Train Accuracy:0.79, Test Accuracy:0.69\n",
      "Epoch: 69  Train Loss:14.85, Test Loss:1.07, Train Accuracy:0.85, Test Accuracy:0.67\n",
      "Epoch: 70  Train Loss:14.66, Test Loss:1.06, Train Accuracy:0.77, Test Accuracy:0.66\n",
      "Epoch: 71  Train Loss:14.48, Test Loss:1.06, Train Accuracy:0.70, Test Accuracy:0.69\n",
      "Epoch: 72  Train Loss:14.39, Test Loss:1.07, Train Accuracy:0.78, Test Accuracy:0.67\n",
      "Epoch: 73  Train Loss:14.21, Test Loss:1.07, Train Accuracy:0.78, Test Accuracy:0.68\n",
      "Epoch: 74  Train Loss:14.26, Test Loss:1.06, Train Accuracy:0.73, Test Accuracy:0.67\n",
      "Epoch: 75  Train Loss:14.14, Test Loss:1.08, Train Accuracy:0.82, Test Accuracy:0.66\n",
      "Epoch: 76  Train Loss:13.96, Test Loss:1.07, Train Accuracy:0.78, Test Accuracy:0.67\n",
      "Epoch: 77  Train Loss:13.91, Test Loss:1.08, Train Accuracy:0.80, Test Accuracy:0.67\n",
      "Epoch: 78  Train Loss:13.85, Test Loss:1.08, Train Accuracy:0.85, Test Accuracy:0.67\n",
      "Epoch: 79  Train Loss:13.59, Test Loss:1.10, Train Accuracy:0.81, Test Accuracy:0.67\n",
      "Epoch: 80  Train Loss:13.61, Test Loss:1.09, Train Accuracy:0.78, Test Accuracy:0.67\n",
      "Epoch: 81  Train Loss:13.40, Test Loss:1.10, Train Accuracy:0.80, Test Accuracy:0.67\n",
      "Epoch: 82  Train Loss:13.42, Test Loss:1.10, Train Accuracy:0.76, Test Accuracy:0.67\n",
      "Epoch: 83  Train Loss:13.10, Test Loss:1.09, Train Accuracy:0.79, Test Accuracy:0.67\n",
      "Epoch: 84  Train Loss:13.12, Test Loss:1.13, Train Accuracy:0.80, Test Accuracy:0.66\n",
      "Epoch: 85  Train Loss:13.14, Test Loss:1.11, Train Accuracy:0.77, Test Accuracy:0.66\n",
      "Epoch: 86  Train Loss:13.01, Test Loss:1.11, Train Accuracy:0.86, Test Accuracy:0.67\n",
      "Epoch: 87  Train Loss:12.82, Test Loss:1.13, Train Accuracy:0.77, Test Accuracy:0.68\n",
      "Epoch: 88  Train Loss:12.80, Test Loss:1.13, Train Accuracy:0.78, Test Accuracy:0.68\n",
      "Epoch: 89  Train Loss:12.71, Test Loss:1.13, Train Accuracy:0.80, Test Accuracy:0.67\n",
      "Epoch: 90  Train Loss:12.75, Test Loss:1.15, Train Accuracy:0.79, Test Accuracy:0.66\n",
      "Epoch: 91  Train Loss:12.57, Test Loss:1.14, Train Accuracy:0.83, Test Accuracy:0.67\n",
      "Epoch: 92  Train Loss:12.56, Test Loss:1.13, Train Accuracy:0.82, Test Accuracy:0.67\n",
      "Epoch: 93  Train Loss:12.30, Test Loss:1.14, Train Accuracy:0.78, Test Accuracy:0.67\n",
      "Epoch: 94  Train Loss:12.35, Test Loss:1.15, Train Accuracy:0.80, Test Accuracy:0.66\n",
      "Epoch: 95  Train Loss:12.21, Test Loss:1.14, Train Accuracy:0.82, Test Accuracy:0.67\n",
      "Epoch: 96  Train Loss:12.10, Test Loss:1.15, Train Accuracy:0.84, Test Accuracy:0.67\n"
     ]
    },
    {
     "name": "stdout",
     "output_type": "stream",
     "text": [
      "Epoch: 97  Train Loss:12.00, Test Loss:1.16, Train Accuracy:0.78, Test Accuracy:0.66\n",
      "Epoch: 98  Train Loss:11.97, Test Loss:1.16, Train Accuracy:0.80, Test Accuracy:0.67\n",
      "Epoch: 99  Train Loss:11.67, Test Loss:1.17, Train Accuracy:0.84, Test Accuracy:0.67\n",
      "Epoch: 100  Train Loss:11.78, Test Loss:1.17, Train Accuracy:0.81, Test Accuracy:0.67\n",
      "Epoch: 101  Train Loss:11.72, Test Loss:1.18, Train Accuracy:0.87, Test Accuracy:0.67\n",
      "Epoch: 102  Train Loss:11.65, Test Loss:1.18, Train Accuracy:0.83, Test Accuracy:0.67\n",
      "Epoch: 103  Train Loss:11.52, Test Loss:1.19, Train Accuracy:0.85, Test Accuracy:0.67\n",
      "Epoch: 104  Train Loss:11.41, Test Loss:1.19, Train Accuracy:0.83, Test Accuracy:0.68\n",
      "Epoch: 105  Train Loss:11.41, Test Loss:1.21, Train Accuracy:0.86, Test Accuracy:0.67\n",
      "Epoch: 106  Train Loss:11.22, Test Loss:1.21, Train Accuracy:0.81, Test Accuracy:0.67\n",
      "Epoch: 107  Train Loss:11.32, Test Loss:1.22, Train Accuracy:0.86, Test Accuracy:0.67\n",
      "Epoch: 108  Train Loss:11.13, Test Loss:1.20, Train Accuracy:0.84, Test Accuracy:0.65\n",
      "Epoch: 109  Train Loss:10.90, Test Loss:1.20, Train Accuracy:0.82, Test Accuracy:0.67\n",
      "Epoch: 110  Train Loss:11.01, Test Loss:1.22, Train Accuracy:0.83, Test Accuracy:0.67\n",
      "Epoch: 111  Train Loss:10.96, Test Loss:1.24, Train Accuracy:0.86, Test Accuracy:0.66\n",
      "Epoch: 112  Train Loss:10.88, Test Loss:1.24, Train Accuracy:0.85, Test Accuracy:0.67\n",
      "Epoch: 113  Train Loss:10.66, Test Loss:1.25, Train Accuracy:0.88, Test Accuracy:0.68\n",
      "Epoch: 114  Train Loss:10.72, Test Loss:1.24, Train Accuracy:0.80, Test Accuracy:0.68\n",
      "Epoch: 115  Train Loss:10.69, Test Loss:1.24, Train Accuracy:0.82, Test Accuracy:0.67\n",
      "Epoch: 116  Train Loss:10.52, Test Loss:1.24, Train Accuracy:0.83, Test Accuracy:0.67\n",
      "Epoch: 117  Train Loss:10.54, Test Loss:1.27, Train Accuracy:0.85, Test Accuracy:0.68\n",
      "Epoch: 118  Train Loss:10.38, Test Loss:1.27, Train Accuracy:0.86, Test Accuracy:0.67\n",
      "Epoch: 119  Train Loss:10.41, Test Loss:1.28, Train Accuracy:0.82, Test Accuracy:0.67\n",
      "Epoch: 120  Train Loss:10.19, Test Loss:1.27, Train Accuracy:0.85, Test Accuracy:0.67\n",
      "Epoch: 121  Train Loss:10.24, Test Loss:1.23, Train Accuracy:0.84, Test Accuracy:0.69\n",
      "Epoch: 122  Train Loss:10.24, Test Loss:1.27, Train Accuracy:0.86, Test Accuracy:0.68\n",
      "Epoch: 123  Train Loss:10.09, Test Loss:1.26, Train Accuracy:0.80, Test Accuracy:0.69\n",
      "Epoch: 124  Train Loss:10.22, Test Loss:1.26, Train Accuracy:0.83, Test Accuracy:0.67\n",
      "Epoch: 125  Train Loss:9.88, Test Loss:1.28, Train Accuracy:0.84, Test Accuracy:0.68\n",
      "Epoch: 126  Train Loss:9.99, Test Loss:1.28, Train Accuracy:0.87, Test Accuracy:0.68\n",
      "Epoch: 127  Train Loss:9.73, Test Loss:1.30, Train Accuracy:0.87, Test Accuracy:0.68\n",
      "Epoch: 128  Train Loss:9.77, Test Loss:1.30, Train Accuracy:0.83, Test Accuracy:0.67\n",
      "Epoch: 129  Train Loss:9.70, Test Loss:1.30, Train Accuracy:0.85, Test Accuracy:0.68\n",
      "Epoch: 130  Train Loss:9.55, Test Loss:1.30, Train Accuracy:0.83, Test Accuracy:0.68\n",
      "Epoch: 131  Train Loss:9.68, Test Loss:1.31, Train Accuracy:0.79, Test Accuracy:0.68\n",
      "Epoch: 132  Train Loss:9.64, Test Loss:1.32, Train Accuracy:0.81, Test Accuracy:0.67\n",
      "Epoch: 133  Train Loss:9.46, Test Loss:1.30, Train Accuracy:0.85, Test Accuracy:0.69\n",
      "Epoch: 134  Train Loss:9.36, Test Loss:1.31, Train Accuracy:0.85, Test Accuracy:0.66\n",
      "Epoch: 135  Train Loss:9.40, Test Loss:1.34, Train Accuracy:0.81, Test Accuracy:0.69\n",
      "Epoch: 136  Train Loss:9.33, Test Loss:1.33, Train Accuracy:0.84, Test Accuracy:0.67\n",
      "Epoch: 137  Train Loss:9.19, Test Loss:1.34, Train Accuracy:0.81, Test Accuracy:0.67\n",
      "Epoch: 138  Train Loss:9.45, Test Loss:1.36, Train Accuracy:0.86, Test Accuracy:0.68\n",
      "Epoch: 139  Train Loss:9.19, Test Loss:1.38, Train Accuracy:0.88, Test Accuracy:0.67\n",
      "Epoch: 140  Train Loss:9.16, Test Loss:1.35, Train Accuracy:0.87, Test Accuracy:0.68\n",
      "Epoch: 141  Train Loss:9.16, Test Loss:1.37, Train Accuracy:0.89, Test Accuracy:0.67\n",
      "Epoch: 142  Train Loss:8.79, Test Loss:1.36, Train Accuracy:0.85, Test Accuracy:0.67\n",
      "Epoch: 143  Train Loss:8.97, Test Loss:1.39, Train Accuracy:0.87, Test Accuracy:0.68\n",
      "Epoch: 144  Train Loss:9.04, Test Loss:1.39, Train Accuracy:0.88, Test Accuracy:0.66\n",
      "Epoch: 145  Train Loss:8.83, Test Loss:1.38, Train Accuracy:0.86, Test Accuracy:0.69\n",
      "Epoch: 146  Train Loss:8.72, Test Loss:1.37, Train Accuracy:0.88, Test Accuracy:0.67\n",
      "Epoch: 147  Train Loss:8.81, Test Loss:1.40, Train Accuracy:0.80, Test Accuracy:0.66\n",
      "Epoch: 148  Train Loss:8.74, Test Loss:1.38, Train Accuracy:0.87, Test Accuracy:0.67\n",
      "Epoch: 149  Train Loss:8.74, Test Loss:1.40, Train Accuracy:0.85, Test Accuracy:0.66\n",
      "Epoch: 150  Train Loss:8.53, Test Loss:1.41, Train Accuracy:0.88, Test Accuracy:0.67\n",
      "Epoch: 151  Train Loss:8.52, Test Loss:1.41, Train Accuracy:0.83, Test Accuracy:0.68\n",
      "Epoch: 152  Train Loss:8.39, Test Loss:1.39, Train Accuracy:0.82, Test Accuracy:0.67\n",
      "Epoch: 153  Train Loss:8.40, Test Loss:1.40, Train Accuracy:0.89, Test Accuracy:0.68\n",
      "Epoch: 154  Train Loss:8.47, Test Loss:1.39, Train Accuracy:0.89, Test Accuracy:0.68\n",
      "Epoch: 155  Train Loss:8.32, Test Loss:1.41, Train Accuracy:0.88, Test Accuracy:0.67\n",
      "Epoch: 156  Train Loss:8.37, Test Loss:1.42, Train Accuracy:0.84, Test Accuracy:0.69\n",
      "Epoch: 157  Train Loss:8.24, Test Loss:1.42, Train Accuracy:0.89, Test Accuracy:0.69\n",
      "Epoch: 158  Train Loss:8.22, Test Loss:1.41, Train Accuracy:0.89, Test Accuracy:0.66\n",
      "Epoch: 159  Train Loss:8.08, Test Loss:1.43, Train Accuracy:0.89, Test Accuracy:0.66\n"
     ]
    }
   ],
   "source": [
    "train_loss_list = []\n",
    "test_loss_list = []\n",
    "train_accuracy_list = []\n",
    "test_accuracy_list = []\n",
    "for epoch in range(num_epochs):\n",
    "    model.train()\n",
    "    running_acc = 0\n",
    "    train_loss = 0\n",
    "    for i, (images, labels) in enumerate(train_loader):     \n",
    "        train = Variable(images.permute(0,4,1,2,3)).cuda()\n",
    "        labels = Variable(labels).cuda()\n",
    "        optimizer.zero_grad()\n",
    "        outputs = model(train)\n",
    "        loss = error(outputs, labels)\n",
    "        train_loss+=loss.data\n",
    "        train_accuracy = accuracy_score(torch.argmax(outputs,axis = 1).cpu().numpy(),labels.cpu().numpy())\n",
    "        running_acc+=train_accuracy*len(images)\n",
    "        loss.backward()\n",
    "        optimizer.step()\n",
    "#         scheduler.step()\n",
    "    running_acc/=len(train_ds)\n",
    "    train_loss/=5\n",
    "    model.eval()\n",
    "    with torch.no_grad():\n",
    "        for images, labels in test_loader:\n",
    "            test = Variable(images.permute(0,4,1,2,3)).cuda()\n",
    "            outputs = model(test).detach()\n",
    "            test_loss = error(outputs,labels.cuda())\n",
    "            test_accuracy = accuracy_score(torch.argmax(outputs,axis = 1).cpu().numpy(),labels.cpu().numpy())\n",
    "    train_loss_list.append(train_loss)\n",
    "    test_loss_list.append(test_loss.data)\n",
    "    test_accuracy_list.append(test_accuracy)\n",
    "    train_accuracy_list.append(train_accuracy)\n",
    "    \n",
    "\n",
    "    print('Epoch: {}  Train Loss:{:.2f}, Test Loss:{:.2f}, Train Accuracy:{:.2f}, Test Accuracy:{:.2f}'.format(epoch, train_loss,test_loss,train_accuracy,test_accuracy))"
   ]
  },
  {
   "cell_type": "markdown",
   "metadata": {},
   "source": [
    "## Test the Model"
   ]
  },
  {
   "cell_type": "code",
   "execution_count": 10,
   "metadata": {},
   "outputs": [
    {
     "name": "stdout",
     "output_type": "stream",
     "text": [
      "0.66\n"
     ]
    }
   ],
   "source": [
    "model.eval()\n",
    "with torch.no_grad():\n",
    "    for images, labels in test_loader:\n",
    "        test = Variable(images.permute(0,4,1,2,3)).cuda()\n",
    "        outputs = model(test).detach()\n",
    "        test_loss = error(outputs,labels.cuda())\n",
    "        test_accuracy = accuracy_score(torch.argmax(outputs,axis = 1).cpu().numpy(),labels.cpu().numpy())\n",
    "print(test_accuracy)\n",
    "torch.save(model.state_dict,'./CNN_5e-5.pth')"
   ]
  },
  {
   "cell_type": "markdown",
   "metadata": {},
   "source": [
    "# Generate Plots"
   ]
  },
  {
   "cell_type": "code",
   "execution_count": 11,
   "metadata": {},
   "outputs": [
    {
     "data": {
      "image/png": "[encoded data removed]",
      "text/plain": [
       "<Figure size 432x288 with 1 Axes>"
      ]
     },
     "metadata": {
      "needs_background": "light"
     },
     "output_type": "display_data"
    }
   ],
   "source": [
    "plt.plot(train_loss_list,label = 'train')\n",
    "plt.plot(test_loss_list,label = 'test')\n",
    "plt.legend()\n",
    "plt.xlabel(\"Number of epochs\")\n",
    "plt.ylabel(\"Loss\")\n",
    "plt.title(\"Loss vs Number of epochs\")\n",
    "plt.show()"
   ]
  },
  {
   "cell_type": "code",
   "execution_count": 12,
   "metadata": {
    "scrolled": true
   },
   "outputs": [
    {
     "data": {
      "image/png": "[encoded data removed]",
      "text/plain": [
       "<Figure size 432x288 with 1 Axes>"
      ]
     },
     "metadata": {
      "needs_background": "light"
     },
     "output_type": "display_data"
    }
   ],
   "source": [
    "plt.plot(train_accuracy_list,color = \"red\",label = 'train')\n",
    "plt.plot(test_accuracy_list,color = \"green\",label = 'test')\n",
    "plt.legend()\n",
    "plt.xlabel(\"Number of epochs\")\n",
    "plt.ylabel(\"Accuracy\")\n",
    "plt.title(\"Accuracy vs Number of epochs\")\n",
    "plt.show()"
   ]
  },
  {
   "cell_type": "code",
   "execution_count": null,
   "metadata": {},
   "outputs": [],
   "source": [
    "from torch.utils.tensorboard import SummaryWriter\n",
    "writer = SummaryWriter('runs/3dmnist')\n",
    "test = Variable(images.permute(0,4,1,2,3)).cuda()\n",
    "writer.add_graph(model,test)\n",
    "# writer.close()"
   ]
  },
  {
   "cell_type": "code",
   "execution_count": null,
   "metadata": {},
   "outputs": [],
   "source": []
  }
 ],
 "metadata": {
  "kernelspec": {
   "display_name": "Python 3",
   "language": "python",
   "name": "python3"
  },
  "language_info": {
   "codemirror_mode": {
    "name": "ipython",
    "version": 3
   },
   "file_extension": ".py",
   "mimetype": "text/x-python",
   "name": "python",
   "nbconvert_exporter": "python",
   "pygments_lexer": "ipython3",
   "version": "3.8.5"
  },
  "toc": {
   "base_numbering": 1,
   "nav_menu": {},
   "number_sections": true,
   "sideBar": true,
   "skip_h1_title": false,
   "title_cell": "Table of Contents",
   "title_sidebar": "Contents",
   "toc_cell": false,
   "toc_position": {},
   "toc_section_display": true,
   "toc_window_display": false
  },
  "varInspector": {
   "cols": {
    "lenName": 16,
    "lenType": 16,
    "lenVar": 40
   },
   "kernels_config": {
    "python": {
     "delete_cmd_postfix": "",
     "delete_cmd_prefix": "del ",
     "library": "var_list.py",
     "varRefreshCmd": "print(var_dic_list())"
    },
    "r": {
     "delete_cmd_postfix": ") ",
     "delete_cmd_prefix": "rm(",
     "library": "var_list.r",
     "varRefreshCmd": "cat(var_dic_list()) "
    }
   },
   "types_to_exclude": [
    "module",
    "function",
    "builtin_function_or_method",
    "instance",
    "_Feature"
   ],
   "window_display": false
  }
 },
 "nbformat": 4,
 "nbformat_minor": 4
}
