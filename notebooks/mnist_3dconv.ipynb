{
 "cells": [
  {
   "cell_type": "markdown",
   "metadata": {},
   "source": [
    "The code is from https://github.com/HarshSulakhe/3DMNIST-PyTorch"
   ]
  },
  {
   "cell_type": "markdown",
   "metadata": {},
   "source": [
    "# Import Packages"
   ]
  },
  {
   "cell_type": "code",
   "execution_count": 1,
   "metadata": {},
   "outputs": [],
   "source": [
    "import pandas as pd\n",
    "import numpy as np\n",
    "from tqdm import tqdm\n",
    "import os\n",
    "import matplotlib.pyplot as plt\n",
    "from sklearn.model_selection import train_test_split\n",
    "from sklearn.metrics import accuracy_score\n",
    "import torch\n",
    "from torch.autograd import Variable\n",
    "import torch.nn as nn\n",
    "import torch.nn.functional as F\n",
    "from torch.optim import *\n",
    "import h5py\n",
    "from utils.plot3D import *\n",
    "from utils.utils import *"
   ]
  },
  {
   "cell_type": "markdown",
   "metadata": {},
   "source": [
    "# Load the vectors "
   ]
  },
  {
   "cell_type": "code",
   "execution_count": 2,
   "metadata": {},
   "outputs": [],
   "source": [
    "with h5py.File('/home/asabuncuoglu13/dataset/mnist3d/full_dataset_vectors.h5', \"r\") as hf:    \n",
    "    X_train = hf[\"X_train\"][:]\n",
    "    targets_train = hf[\"y_train\"][:]\n",
    "    X_test = hf[\"X_test\"][:] \n",
    "    targets_test = hf[\"y_test\"][:]\n",
    "    \n",
    "X_train = rgb_data_transform(X_train)\n",
    "X_test = rgb_data_transform(X_test)"
   ]
  },
  {
   "cell_type": "markdown",
   "metadata": {},
   "source": [
    "# Create Datasets and Dataloaders"
   ]
  },
  {
   "cell_type": "code",
   "execution_count": 3,
   "metadata": {},
   "outputs": [],
   "source": [
    "train_x = torch.from_numpy(X_train).float()\n",
    "train_y = torch.from_numpy(targets_train).long()\n",
    "test_x = torch.from_numpy(X_test).float()\n",
    "test_y = torch.from_numpy(targets_test).long()\n",
    "\n",
    "batch_size = 2000\n",
    "\n",
    "train_ds = torch.utils.data.TensorDataset(train_x,train_y)\n",
    "test_ds = torch.utils.data.TensorDataset(test_x,test_y)\n",
    "\n",
    "train_loader = torch.utils.data.DataLoader(train_ds, batch_size = batch_size, shuffle = False)\n",
    "test_loader = torch.utils.data.DataLoader(test_ds, batch_size = batch_size, shuffle = False)"
   ]
  },
  {
   "cell_type": "markdown",
   "metadata": {},
   "source": [
    "# CNN and Linear Models"
   ]
  },
  {
   "cell_type": "code",
   "execution_count": 4,
   "metadata": {},
   "outputs": [],
   "source": [
    "class CNNModel(nn.Module):\n",
    "\n",
    "    def __init__(self):\n",
    "        super(CNNModel,self).__init__()\n",
    "        self.conv1 = nn.Conv3d(3,8,3)\n",
    "        self.conv2 = nn.Conv3d(8,32,3)\n",
    "        self.conv3 = nn.Conv3d(32,32,3)\n",
    "        # self.conv4 = nn.Conv3d(64,128,3)\n",
    "        self.relu = nn.ReLU()\n",
    "        self.pool1 = nn.MaxPool3d(4)\n",
    "        # self.pool2 = nn.MaxPool3d(2)\n",
    "        # self.linear1 = nn.Linear(128*8,128)\n",
    "        self.linear2 = nn.Linear(32,10)\n",
    "        self.batchnorm = nn.BatchNorm3d(32)\n",
    "        self.dropout = nn.Dropout(0.5)\n",
    "\n",
    "    def forward(self,x):\n",
    "        x = self.conv1(x)\n",
    "        x = self.conv2(x)\n",
    "        x = self.pool1(x)\n",
    "        x = self.conv3(x)\n",
    "        # x = self.conv4(x)\n",
    "        # x = self.pool1(x)\n",
    "        x = self.batchnorm(x)\n",
    "        x = x.view(x.size()[0],-1)\n",
    "        # x = self.linear1(x)\n",
    "        # x = self.relu(x)\n",
    "        x = self.dropout(x)\n",
    "        x = self.linear2(x)\n",
    "        return x\n",
    "\n",
    "class LinearModel(nn.Module):\n",
    "\n",
    "    def __init__(self):\n",
    "        super(LinearModel,self).__init__()\n",
    "        self.l1 = nn.Linear(4096,1024)\n",
    "        self.l2 = nn.Linear(1024,256)\n",
    "        self.l3 = nn.Linear(256,64)\n",
    "        self.l4 = nn.Linear(64,10)\n",
    "        self.elu = nn.ELU()\n",
    "        self.dropout = nn.Dropout(0.5)\n",
    "\n",
    "    def forward(self,x):\n",
    "        x = x.view(-1,4096)\n",
    "        x = self.l1(x)\n",
    "        x = self.elu(x)\n",
    "        x = self.dropout(x)\n",
    "        x = self.l2(x)\n",
    "        x = self.elu(x)\n",
    "        x = self.dropout(x)\n",
    "        x = self.l3(x)\n",
    "        x = self.elu(x)\n",
    "        x = self.l4(x)\n",
    "        return x"
   ]
  },
  {
   "cell_type": "markdown",
   "metadata": {},
   "source": [
    "# Define Hyperparameters"
   ]
  },
  {
   "cell_type": "code",
   "execution_count": 5,
   "metadata": {},
   "outputs": [],
   "source": [
    "num_epochs = 160\n",
    "\n",
    "model = CNNModel()\n",
    "# model = LinearModel()\n",
    "model = model.cuda()\n",
    "\n",
    "error = nn.CrossEntropyLoss()\n",
    "\n",
    "learning_rate = 0.00005\n",
    "optimizer = torch.optim.Adam(model.parameters(), lr=learning_rate)\n",
    "# scheduler = torch.optim.lr_scheduler.CyclicLR(optimizer,0.005,0.1,cycle_momentum=False)"
   ]
  },
  {
   "cell_type": "markdown",
   "metadata": {},
   "source": [
    "# Train the Model"
   ]
  },
  {
   "cell_type": "code",
   "execution_count": 7,
   "metadata": {},
   "outputs": [
    {
     "name": "stdout",
     "output_type": "stream",
     "text": [
      "Epoch: 0  Train Loss:2.56, Test Loss:2.30, Train Accuracy:0.12, Test Accuracy:0.09\n",
      "Epoch: 1  Train Loss:2.46, Test Loss:2.30, Train Accuracy:0.15, Test Accuracy:0.11\n",
      "Epoch: 2  Train Loss:2.40, Test Loss:2.29, Train Accuracy:0.15, Test Accuracy:0.12\n",
      "Epoch: 3  Train Loss:2.34, Test Loss:2.28, Train Accuracy:0.18, Test Accuracy:0.13\n",
      "Epoch: 4  Train Loss:2.26, Test Loss:2.27, Train Accuracy:0.21, Test Accuracy:0.16\n",
      "Epoch: 5  Train Loss:2.22, Test Loss:2.25, Train Accuracy:0.26, Test Accuracy:0.20\n",
      "Epoch: 6  Train Loss:2.17, Test Loss:2.23, Train Accuracy:0.25, Test Accuracy:0.25\n",
      "Epoch: 7  Train Loss:2.13, Test Loss:2.19, Train Accuracy:0.27, Test Accuracy:0.29\n",
      "Epoch: 8  Train Loss:2.09, Test Loss:2.16, Train Accuracy:0.31, Test Accuracy:0.32\n",
      "Epoch: 9  Train Loss:2.06, Test Loss:2.11, Train Accuracy:0.31, Test Accuracy:0.35\n",
      "Epoch: 10  Train Loss:2.02, Test Loss:2.06, Train Accuracy:0.34, Test Accuracy:0.38\n",
      "Epoch: 11  Train Loss:1.99, Test Loss:2.00, Train Accuracy:0.35, Test Accuracy:0.39\n",
      "Epoch: 12  Train Loss:1.95, Test Loss:1.94, Train Accuracy:0.35, Test Accuracy:0.41\n",
      "Epoch: 13  Train Loss:1.92, Test Loss:1.88, Train Accuracy:0.38, Test Accuracy:0.42\n"
     ]
    },
    {
     "ename": "KeyboardInterrupt",
     "evalue": "",
     "output_type": "error",
     "traceback": [
      "\u001b[0;31m---------------------------------------------------------------------------\u001b[0m",
      "\u001b[0;31mKeyboardInterrupt\u001b[0m                         Traceback (most recent call last)",
      "\u001b[0;32m<ipython-input-7-fd19d5b15c76>\u001b[0m in \u001b[0;36m<module>\u001b[0;34m\u001b[0m\n\u001b[1;32m      8\u001b[0m     \u001b[0mtrain_loss\u001b[0m \u001b[0;34m=\u001b[0m \u001b[0;36m0\u001b[0m\u001b[0;34m\u001b[0m\u001b[0;34m\u001b[0m\u001b[0m\n\u001b[1;32m      9\u001b[0m     \u001b[0;32mfor\u001b[0m \u001b[0mi\u001b[0m\u001b[0;34m,\u001b[0m \u001b[0;34m(\u001b[0m\u001b[0mimages\u001b[0m\u001b[0;34m,\u001b[0m \u001b[0mlabels\u001b[0m\u001b[0;34m)\u001b[0m \u001b[0;32min\u001b[0m \u001b[0menumerate\u001b[0m\u001b[0;34m(\u001b[0m\u001b[0mtrain_loader\u001b[0m\u001b[0;34m)\u001b[0m\u001b[0;34m:\u001b[0m\u001b[0;34m\u001b[0m\u001b[0;34m\u001b[0m\u001b[0m\n\u001b[0;32m---> 10\u001b[0;31m         \u001b[0mtrain\u001b[0m \u001b[0;34m=\u001b[0m \u001b[0mVariable\u001b[0m\u001b[0;34m(\u001b[0m\u001b[0mimages\u001b[0m\u001b[0;34m.\u001b[0m\u001b[0mpermute\u001b[0m\u001b[0;34m(\u001b[0m\u001b[0;36m0\u001b[0m\u001b[0;34m,\u001b[0m\u001b[0;36m4\u001b[0m\u001b[0;34m,\u001b[0m\u001b[0;36m1\u001b[0m\u001b[0;34m,\u001b[0m\u001b[0;36m2\u001b[0m\u001b[0;34m,\u001b[0m\u001b[0;36m3\u001b[0m\u001b[0;34m)\u001b[0m\u001b[0;34m)\u001b[0m\u001b[0;34m.\u001b[0m\u001b[0mcuda\u001b[0m\u001b[0;34m(\u001b[0m\u001b[0;34m)\u001b[0m\u001b[0;34m\u001b[0m\u001b[0;34m\u001b[0m\u001b[0m\n\u001b[0m\u001b[1;32m     11\u001b[0m         \u001b[0mlabels\u001b[0m \u001b[0;34m=\u001b[0m \u001b[0mVariable\u001b[0m\u001b[0;34m(\u001b[0m\u001b[0mlabels\u001b[0m\u001b[0;34m)\u001b[0m\u001b[0;34m.\u001b[0m\u001b[0mcuda\u001b[0m\u001b[0;34m(\u001b[0m\u001b[0;34m)\u001b[0m\u001b[0;34m\u001b[0m\u001b[0;34m\u001b[0m\u001b[0m\n\u001b[1;32m     12\u001b[0m         \u001b[0moptimizer\u001b[0m\u001b[0;34m.\u001b[0m\u001b[0mzero_grad\u001b[0m\u001b[0;34m(\u001b[0m\u001b[0;34m)\u001b[0m\u001b[0;34m\u001b[0m\u001b[0;34m\u001b[0m\u001b[0m\n",
      "\u001b[0;31mKeyboardInterrupt\u001b[0m: "
     ]
    }
   ],
   "source": [
    "train_loss_list = []\n",
    "test_loss_list = []\n",
    "train_accuracy_list = []\n",
    "test_accuracy_list = []\n",
    "for epoch in range(num_epochs):\n",
    "    model.train()\n",
    "    running_acc = 0\n",
    "    train_loss = 0\n",
    "    for i, (images, labels) in enumerate(train_loader):     \n",
    "        train = Variable(images.permute(0,4,1,2,3)).cuda()\n",
    "        labels = Variable(labels).cuda()\n",
    "        optimizer.zero_grad()\n",
    "        outputs = model(train)\n",
    "        loss = error(outputs, labels)\n",
    "        train_loss+=loss.data\n",
    "        train_accuracy = accuracy_score(torch.argmax(outputs,axis = 1).cpu().numpy(),labels.cpu().numpy())\n",
    "        running_acc+=train_accuracy*len(images)\n",
    "        loss.backward()\n",
    "        optimizer.step()\n",
    "#         scheduler.step()\n",
    "    running_acc/=len(train_ds)\n",
    "    train_loss/=5\n",
    "    model.eval()\n",
    "    with torch.no_grad():\n",
    "        for images, labels in test_loader:\n",
    "            test = Variable(images.permute(0,4,1,2,3)).cuda()\n",
    "            outputs = model(test).detach()\n",
    "            test_loss = error(outputs,labels.cuda())\n",
    "            test_accuracy = accuracy_score(torch.argmax(outputs,axis = 1).cpu().numpy(),labels.cpu().numpy())\n",
    "    train_loss_list.append(train_loss)\n",
    "    test_loss_list.append(test_loss.data)\n",
    "    test_accuracy_list.append(test_accuracy)\n",
    "    train_accuracy_list.append(train_accuracy)\n",
    "    \n",
    "\n",
    "    print('Epoch: {}  Train Loss:{:.2f}, Test Loss:{:.2f}, Train Accuracy:{:.2f}, Test Accuracy:{:.2f}'.format(epoch, train_loss,test_loss,train_accuracy,test_accuracy))\n"
   ]
  },
  {
   "cell_type": "markdown",
   "metadata": {},
   "source": [
    "# Test the Model"
   ]
  },
  {
   "cell_type": "code",
   "execution_count": null,
   "metadata": {},
   "outputs": [],
   "source": [
    "model.eval()\n",
    "with torch.no_grad():\n",
    "    for images, labels in test_loader:\n",
    "        test = Variable(images.permute(0,4,1,2,3)).cuda()\n",
    "        outputs = model(test).detach()\n",
    "        test_loss = error(outputs,labels.cuda())\n",
    "        test_accuracy = accuracy_score(torch.argmax(outputs,axis = 1).cpu().numpy(),labels.cpu().numpy())\n",
    "print(test_accuracy)\n",
    "torch.save(model.state_dict,'./CNN_5e-5.pth')"
   ]
  },
  {
   "cell_type": "markdown",
   "metadata": {},
   "source": [
    "# Generate Plots"
   ]
  },
  {
   "cell_type": "code",
   "execution_count": null,
   "metadata": {},
   "outputs": [],
   "source": [
    "plt.plot(train_loss_list,label = 'train')\n",
    "plt.plot(test_loss_list,label = 'test')\n",
    "plt.legend()\n",
    "plt.xlabel(\"Number of epochs\")\n",
    "plt.ylabel(\"Loss\")\n",
    "plt.title(\"Loss vs Number of epochs\")\n",
    "plt.show()"
   ]
  },
  {
   "cell_type": "code",
   "execution_count": null,
   "metadata": {},
   "outputs": [],
   "source": [
    "plt.plot(train_accuracy_list,color = \"red\",label = 'train')\n",
    "plt.plot(test_accuracy_list,color = \"green\",label = 'test')\n",
    "plt.legend()\n",
    "plt.xlabel(\"Number of epochs\")\n",
    "plt.ylabel(\"Accuracy\")\n",
    "plt.title(\"Accuracy vs Number of epochs\")\n",
    "plt.show()"
   ]
  },
  {
   "cell_type": "code",
   "execution_count": null,
   "metadata": {},
   "outputs": [],
   "source": []
  }
 ],
 "metadata": {
  "kernelspec": {
   "display_name": "Python 3",
   "language": "python",
   "name": "python3"
  },
  "language_info": {
   "codemirror_mode": {
    "name": "ipython",
    "version": 3
   },
   "file_extension": ".py",
   "mimetype": "text/x-python",
   "name": "python",
   "nbconvert_exporter": "python",
   "pygments_lexer": "ipython3",
   "version": "3.8.5"
  },
  "toc": {
   "base_numbering": 1,
   "nav_menu": {},
   "number_sections": true,
   "sideBar": true,
   "skip_h1_title": false,
   "title_cell": "Table of Contents",
   "title_sidebar": "Contents",
   "toc_cell": false,
   "toc_position": {},
   "toc_section_display": true,
   "toc_window_display": false
  },
  "varInspector": {
   "cols": {
    "lenName": 16,
    "lenType": 16,
    "lenVar": 40
   },
   "kernels_config": {
    "python": {
     "delete_cmd_postfix": "",
     "delete_cmd_prefix": "del ",
     "library": "var_list.py",
     "varRefreshCmd": "print(var_dic_list())"
    },
    "r": {
     "delete_cmd_postfix": ") ",
     "delete_cmd_prefix": "rm(",
     "library": "var_list.r",
     "varRefreshCmd": "cat(var_dic_list()) "
    }
   },
   "types_to_exclude": [
    "module",
    "function",
    "builtin_function_or_method",
    "instance",
    "_Feature"
   ],
   "window_display": false
  }
 },
 "nbformat": 4,
 "nbformat_minor": 4
}
