{
 "cells": [
  {
   "cell_type": "code",
   "execution_count": 1,
   "metadata": {},
   "outputs": [],
   "source": [
    "import pandas as pd\n",
    "import numpy as np\n",
    "from tqdm import tqdm\n",
    "import os\n",
    "import matplotlib.pyplot as plt\n",
    "from sklearn.model_selection import train_test_split\n",
    "from sklearn.metrics import accuracy_score\n",
    "import argparse\n",
    "import torch\n",
    "from torch.autograd import Variable\n",
    "from torch.utils.data import Dataset, DataLoader\n",
    "from utils.data.data import SomethingSomethingV2\n",
    "from torch.multiprocessing import cpu_count\n",
    "import torch.nn.init as init\n",
    "import torch.nn as nn\n",
    "import torch.nn.functional as F\n",
    "from torch.optim import *\n",
    "import math"
   ]
  },
  {
   "cell_type": "code",
   "execution_count": 2,
   "metadata": {},
   "outputs": [],
   "source": [
    "os.environ['CUDA_LAUNCH_BLOCKING'] = \"1\"\n",
    "\n",
    "epochs = 8\n",
    "batch_size = 16"
   ]
  },
  {
   "cell_type": "code",
   "execution_count": 3,
   "metadata": {},
   "outputs": [],
   "source": [
    "data_root = \"/datasets/20bn_something_something/v2/\"\n",
    "train_dataset = SomethingSomethingV2(root=data_root, mode='train')\n",
    "eval_dataset = SomethingSomethingV2(root=data_root, mode='validation')\n",
    "train_loader = DataLoader(train_dataset,\n",
    "                          batch_size=batch_size,\n",
    "                          shuffle=True,\n",
    "                          num_workers= min(cpu_count(), 2))\n",
    "\n",
    "eval_loader = DataLoader(eval_dataset,\n",
    "                          batch_size=batch_size,\n",
    "                          shuffle=True,\n",
    "                          num_workers= min(cpu_count(), 2))"
   ]
  },
  {
   "cell_type": "code",
   "execution_count": 4,
   "metadata": {},
   "outputs": [],
   "source": [
    "from resnetattn import *"
   ]
  },
  {
   "cell_type": "code",
   "execution_count": 5,
   "metadata": {},
   "outputs": [],
   "source": [
    "device = 'cuda'\n",
    "\n",
    "model = resnet3d18(num_classes=174)\n",
    "model = model.to(device)\n",
    "\n",
    "crit = nn.CrossEntropyLoss().to(device)\n",
    "opt = torch.optim.Adam(model.parameters())"
   ]
  },
  {
   "cell_type": "code",
   "execution_count": null,
   "metadata": {},
   "outputs": [],
   "source": [
    "def train(loader, model, crit, optimizer, epoch):\n",
    "    model.train()\n",
    "\n",
    "    loss_sum = 0\n",
    "    for clips, targets in tqdm(loader):\n",
    "        clips = clips.to(device)\n",
    "        targets = targets.to(device)\n",
    "\n",
    "        logits = model(clips)\n",
    "        loss = crit(logits, targets)\n",
    "        loss_sum += loss.data.cpu().numpy()\n",
    "\n",
    "        optimizer.zero_grad()\n",
    "        loss.backward()\n",
    "        optimizer.step()\n",
    "\n",
    "    return (loss_sum / len(loader))\n",
    "\n",
    "def bce(probs, labels):\n",
    "    safelog =  lambda x: np.log(np.maximum(x, np.exp(-50.)))\n",
    "    return np.mean(-labels * safelog(probs) - (1 - labels) * safelog(1 - probs))\n",
    "\n",
    "def validate(loader, model, crit):\n",
    "    model.eval()\n",
    "    sm = nn.Softmax(dim=1)\n",
    "    labels = np.zeros((len(loader.dataset)), dtype=np.float32)\n",
    "    probs = np.zeros((len(loader.dataset), 2), dtype=np.float32)\n",
    "    with torch.no_grad():\n",
    "        for i, (clips, targets) in enumerate(tqdm(loader)):\n",
    "            torch.cuda.empty_cache()\n",
    "            start = i*batch_size\n",
    "            end = start + clips.shape[0]\n",
    "            labels[start:end] = targets\n",
    "            clips = clips.to(device)\n",
    "\n",
    "            logits = model(clips)\n",
    "            probs[start:end] = sm(logits).cpu().numpy()\n",
    "\n",
    "    probs = probs.reshape(4, -1, 2).mean(axis=0)\n",
    "    labels = labels.reshape(4, -1).mean(axis=0)\n",
    "\n",
    "    preds = probs.argmax(axis=1)\n",
    "    correct = (preds == labels).sum()\n",
    "    acc = correct*100//preds.shape[0]\n",
    "    loss = bce(probs[:, 1], labels)\n",
    "    print('validation accuracy %d%%' % acc)\n",
    "    return loss\n",
    "\n",
    "model_file = 'resnet_model_attn.pth'\n",
    "if os.path.exists(model_file):\n",
    "    checkpoint = torch.load(model_file)\n",
    "    model.load_state_dict(checkpoint['state_dict'])\n",
    "    print('loaded %s' % model_file)\n",
    "\n",
    "try:\n",
    "    for epoch in range(epochs):\n",
    "        # Train for one epoch\n",
    "        torch.cuda.empty_cache()\n",
    "        train_loss = train(train_loader, model, crit, opt, epoch)\n",
    "\n",
    "        # Evaluate on validation set\n",
    "        val_loss = validate(eval_loader, model, crit)\n",
    "        print('epoch %d training loss %.2f validation loss %.2f\\n' % (\n",
    "              epoch, train_loss, val_loss))\n",
    "finally:\n",
    "    torch.save({'state_dict': model.state_dict()}, model_file)\n",
    "print('done')"
   ]
  },
  {
   "cell_type": "code",
   "execution_count": null,
   "metadata": {},
   "outputs": [],
   "source": []
  }
 ],
 "metadata": {
  "kernelspec": {
   "display_name": "Python 3",
   "language": "python",
   "name": "python3"
  },
  "language_info": {
   "codemirror_mode": {
    "name": "ipython",
    "version": 3
   },
   "file_extension": ".py",
   "mimetype": "text/x-python",
   "name": "python",
   "nbconvert_exporter": "python",
   "pygments_lexer": "ipython3",
   "version": "3.6.8"
  }
 },
 "nbformat": 4,
 "nbformat_minor": 2
}
