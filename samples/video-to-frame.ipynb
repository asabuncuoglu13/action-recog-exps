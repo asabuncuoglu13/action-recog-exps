{
 "cells": [
  {
   "cell_type": "code",
   "execution_count": 1,
   "metadata": {},
   "outputs": [],
   "source": [
    "import os\n",
    "import cv2"
   ]
  },
  {
   "cell_type": "code",
   "execution_count": 5,
   "metadata": {},
   "outputs": [],
   "source": [
    "dataset = \"smth-smth\"; ext = \".webm\"\n",
    "#dataset = \"charades\"; ext = \".mp4\"\n",
    "#dataset = \"mnts-in-time\"; ext = \".mp4\"\n",
    "base_dir = r'/home/asabuncuoglu13/Desktop/video-action-recog/samples/'\n",
    "video_dir = base_dir + dataset \n",
    "frames_dir = video_dir + \"/frames\""
   ]
  },
  {
   "cell_type": "code",
   "execution_count": 6,
   "metadata": {},
   "outputs": [],
   "source": [
    "if not os.path.exists(frames_dir):\n",
    "    os.makedirs(frames_dir)"
   ]
  },
  {
   "cell_type": "code",
   "execution_count": 7,
   "metadata": {},
   "outputs": [
    {
     "name": "stdout",
     "output_type": "stream",
     "text": [
      "yt-KQ9w0JYmvK8_1.mp4  frames saved.\n",
      "yt-VJdjGvN9GfE_64.mp4  frames saved.\n",
      "yt-zZyWxbojYH8_943.mp4  frames saved.\n"
     ]
    }
   ],
   "source": [
    "for filename in os.listdir(video_dir):\n",
    "    if filename.endswith(ext):\n",
    "        vidcap = cv2.VideoCapture(os.path.join(video_dir, filename))\n",
    "        success,image = vidcap.read()\n",
    "        count = 0\n",
    "        os.makedirs(os.path.join(frames_dir, filename))\n",
    "        while success:\n",
    "            cv2.imwrite(\"{}/{}/frame{}.jpg\".format(frames_dir, filename, count), image)     # save frame as JPEG file      \n",
    "            success,image = vidcap.read()\n",
    "            count += 1\n",
    "        print(filename, \" frames saved.\")\n",
    "    else:\n",
    "        continue\n"
   ]
  },
  {
   "cell_type": "code",
   "execution_count": null,
   "metadata": {},
   "outputs": [],
   "source": []
  }
 ],
 "metadata": {
  "kernelspec": {
   "display_name": "Python 3",
   "language": "python",
   "name": "python3"
  },
  "language_info": {
   "codemirror_mode": {
    "name": "ipython",
    "version": 3
   },
   "file_extension": ".py",
   "mimetype": "text/x-python",
   "name": "python",
   "nbconvert_exporter": "python",
   "pygments_lexer": "ipython3",
   "version": "3.8.5"
  },
  "toc": {
   "base_numbering": 1,
   "nav_menu": {},
   "number_sections": true,
   "sideBar": true,
   "skip_h1_title": false,
   "title_cell": "Table of Contents",
   "title_sidebar": "Contents",
   "toc_cell": false,
   "toc_position": {},
   "toc_section_display": true,
   "toc_window_display": false
  },
  "varInspector": {
   "cols": {
    "lenName": 16,
    "lenType": 16,
    "lenVar": 40
   },
   "kernels_config": {
    "python": {
     "delete_cmd_postfix": "",
     "delete_cmd_prefix": "del ",
     "library": "var_list.py",
     "varRefreshCmd": "print(var_dic_list())"
    },
    "r": {
     "delete_cmd_postfix": ") ",
     "delete_cmd_prefix": "rm(",
     "library": "var_list.r",
     "varRefreshCmd": "cat(var_dic_list()) "
    }
   },
   "types_to_exclude": [
    "module",
    "function",
    "builtin_function_or_method",
    "instance",
    "_Feature"
   ],
   "window_display": false
  }
 },
 "nbformat": 4,
 "nbformat_minor": 4
}
